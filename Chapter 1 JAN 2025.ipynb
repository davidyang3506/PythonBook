{
 "cells": [
  {
   "cell_type": "markdown",
   "id": "1374d6d4",
   "metadata": {},
   "source": [
    "# Chapter 1: Introduction to Python\n",
    "\n",
    "This chapter introduces the fundamental building blocks of Python programming, tailored specifically to the needs of financial analysts and researchers. Given the fast-paced nature of the financial industry, efficient data handling is crucial. Python's user-friendly syntax and robust libraries make it an ideal tool for tackling complex financial data analysis.\n",
    "\n",
    "We begin by exploring Python's core data types, such as integers, floats, booleans, and strings, and demonstrate their applications in financial calculations and text manipulations. To further solidify your understanding, we introduce essential data structures like tuples, lists, and dictionaries, showcasing their utility in organizing and managing financial data.\n",
    "\n",
    "To bridge the gap between theory and practice, we leverage the Tiingo API to access real-world financial data. You'll learn how to fetch and manipulate stock price data, metadata, and other relevant financial information using Python code.\n",
    "\n",
    "\n",
    "## 1.1 Data and Python\n",
    "\n",
    "Data refers to raw facts and figures collected from various sources, which can be analyzed to gain insights and make informed decisions. In finance, data plays a crucial role by providing the foundational information needed for investment analysis, risk management, and strategic planning.\n",
    "\n",
    "A coding language is a system of rules and syntax used to instruct computers to perform tasks. Python is a popular, high-level language known for its readability and simplicity. It's widely used in web development, data analysis, and automation due to its versatility and extensive libraries.\n",
    "\n",
    "Understanding data types is crucial for effective programming. Python offers several fundamental data types, each serving a specific purpose in data analysis."
   ]
  },
  {
   "cell_type": "markdown",
   "id": "7b3061ec",
   "metadata": {},
   "source": [
    "### 1.1.1 Numeric Types\n",
    "\n",
    "Numeric data types are the backbone of financial calculations. Python supports both integers and floating-point numbers, allowing for precise arithmetic operations. We'll explore these types through basic arithmetic and more complex operations, demonstrating their use in financial contexts."
   ]
  },
  {
   "cell_type": "markdown",
   "id": "add5cc44",
   "metadata": {},
   "source": [
    "#### 1.1.1.1 Type: Integer\n",
    "\n",
    "Integers consist of whole numbers without fractional components. They can be used in a variety of operations, including addition (+), subtraction (-), multiplication (*), and division (/).\n",
    "\n",
    "Note: Anything written following a # is a comment. Commenting in coding involves adding explanatory notes within the code to clarify its purpose or functionality, making it easier for others (or yourself) to understand and maintain."
   ]
  },
  {
   "cell_type": "code",
   "execution_count": 1,
   "id": "ad093994",
   "metadata": {
    "scrolled": true
   },
   "outputs": [
    {
     "name": "stdout",
     "output_type": "stream",
     "text": [
      "5\n",
      "<class 'int'>\n"
     ]
    }
   ],
   "source": [
    "# Example 1: Printing an integer\n",
    "print(5)  # Output: 5\n",
    "\n",
    "# Example 2: Checking the data type\n",
    "print(type(5))  # Output: <class 'int'>"
   ]
  },
  {
   "cell_type": "markdown",
   "id": "9b8f3198",
   "metadata": {},
   "source": [
    "**Basic Arithmetic with Integers:**"
   ]
  },
  {
   "cell_type": "code",
   "execution_count": 2,
   "id": "c7add835",
   "metadata": {
    "scrolled": true
   },
   "outputs": [
    {
     "name": "stdout",
     "output_type": "stream",
     "text": [
      "13\n",
      "7\n",
      "2187\n"
     ]
    }
   ],
   "source": [
    "print(6 + 7)  # Output: 13 (Addition)\n",
    "print(3 * 5 - 8)  # Output: 7 (Multiplication and Subtraction)\n",
    "print(3 ** 7)  # Output: 2187 (Exponentiation, 3 raised to the power of 7)"
   ]
  },
  {
   "cell_type": "markdown",
   "id": "7efb574c",
   "metadata": {},
   "source": [
    "#### 1.1.1.2 Type: Float\n",
    "\n",
    "Floats, or floating-point numbers, are numbers that can possess fractional components. The name \"floating point\" refers to the fact that the decimal point can \"float,\" allowing for a variable number of digits before and after the decimal point."
   ]
  },
  {
   "cell_type": "code",
   "execution_count": 3,
   "id": "732ed7f5",
   "metadata": {},
   "outputs": [
    {
     "name": "stdout",
     "output_type": "stream",
     "text": [
      "4.8\n",
      "<class 'float'>\n"
     ]
    }
   ],
   "source": [
    "# Example 1: Printing a float\n",
    "print(4.8)  # Output: 4.8\n",
    "\n",
    "# Example 2: Checking the data type\n",
    "print(type(4.8))  # Output: <class 'float'>"
   ]
  },
  {
   "cell_type": "markdown",
   "id": "7f67d81c",
   "metadata": {},
   "source": [
    "**Basic Arithmetic with Floats:**"
   ]
  },
  {
   "cell_type": "code",
   "execution_count": 4,
   "id": "055bf3c2",
   "metadata": {},
   "outputs": [
    {
     "name": "stdout",
     "output_type": "stream",
     "text": [
      "3.0\n",
      "26.25\n",
      "2.1908902300206643\n"
     ]
    }
   ],
   "source": [
    "print(9 ** 0.5)  # Output: 3.0 (Square root of 9)\n",
    "print(4.8 * 5 + 2.25)  # Output: 26.25 (Multiplication and Addition)\n",
    "print(4.8 ** 0.5)  # Output: 2.1908902300206643 (Square root of 4.8)"
   ]
  },
  {
   "cell_type": "markdown",
   "id": "72243871",
   "metadata": {},
   "source": [
    " "
   ]
  },
  {
   "cell_type": "markdown",
   "id": "fd442a7e",
   "metadata": {},
   "source": [
    "### 1.1.2 Variables\n",
    "\n",
    "Variables in Python are used to store data that can be referenced and manipulated. Here’s how to assign values to variables and perform operations with them:"
   ]
  },
  {
   "cell_type": "code",
   "execution_count": 5,
   "id": "49950713",
   "metadata": {},
   "outputs": [
    {
     "name": "stdout",
     "output_type": "stream",
     "text": [
      "7\n",
      "<class 'int'>\n",
      "<class 'float'>\n",
      "31.5\n"
     ]
    }
   ],
   "source": [
    "x = 7  # Assigning an integer value of 7 to the variable x\n",
    "y = 4.5  # Assigning a float value of 4.5 to the variable y\n",
    "\n",
    "print(x)  # Output: 7\n",
    "print(type(x))  # Output: <class 'int'>\n",
    "print(type(y))  # Output: <class 'float'>\n",
    "print(x * y)  # Output: 31.5 (Multiplication)"
   ]
  },
  {
   "cell_type": "markdown",
   "id": "a87a4dcc",
   "metadata": {},
   "source": [
    " "
   ]
  },
  {
   "cell_type": "markdown",
   "id": "4de603d4",
   "metadata": {},
   "source": [
    "### 1.1.3 Boolean Types\n",
    "\n",
    "Booleans represent truth values (True or False) and are used in logical operations and comparisons. Here’s how to evaluate expressions to return boolean values:"
   ]
  },
  {
   "cell_type": "code",
   "execution_count": 6,
   "id": "333a291c",
   "metadata": {},
   "outputs": [
    {
     "name": "stdout",
     "output_type": "stream",
     "text": [
      "True\n",
      "<class 'bool'>\n",
      "True\n",
      "False\n",
      "False\n",
      "True\n"
     ]
    }
   ],
   "source": [
    "print(True)  # Output: True\n",
    "print(type(True))  # Output: <class 'bool'>\n",
    "\n",
    "print(7 > 6)  # Output: True (Comparison)\n",
    "print(5 < 2)  # Output: False (Comparison)\n",
    "print(8 == 6)  # Output: False (Equality check)\n",
    "print(4 == 4)  # Output: True (Equality check)"
   ]
  },
  {
   "cell_type": "markdown",
   "id": "5abb912a",
   "metadata": {},
   "source": [
    " "
   ]
  },
  {
   "cell_type": "markdown",
   "id": "1f17af8f",
   "metadata": {},
   "source": [
    "### 1.1.4 String Types\n",
    "\n",
    "Strings are sequences of characters used to represent text. Here’s how to manipulate strings, which is essential for handling financial data labels and descriptions:"
   ]
  },
  {
   "cell_type": "code",
   "execution_count": 7,
   "id": "9c6f7108",
   "metadata": {},
   "outputs": [
    {
     "name": "stdout",
     "output_type": "stream",
     "text": [
      "finance\n",
      "<class 'str'>\n",
      "finance\n",
      "financefinancefinance\n",
      "financefinance\n",
      "f\n",
      "n\n",
      "e\n",
      "ina\n"
     ]
    }
   ],
   "source": [
    "str_var = 'finance'  # Assigning a string value to the variable str_var\n",
    "print(str_var)  # Output: finance\n",
    "print(type(str_var))  # Output: <class 'str'>\n",
    "\n",
    "# String manipulation\n",
    "print(str_var.lower())  # Output: finance (Lowercase conversion)\n",
    "print(3 * str_var)  # Output: financefinancefinance (String multiplication)\n",
    "print(str_var + str_var)  # Output: financefinance (String concatenation)\n",
    "\n",
    "# Indexing and slicing\n",
    "print(str_var[0])  # Output: f (First character)\n",
    "print(str_var[2])  # Output: n (Third character)\n",
    "print(str_var[-1])  # Output: e (Last character)\n",
    "print(str_var[1:4])  # Output: ina (Slicing from index 1 to 3)"
   ]
  },
  {
   "cell_type": "markdown",
   "id": "24b69a4b",
   "metadata": {},
   "source": [
    " "
   ]
  },
  {
   "cell_type": "markdown",
   "id": "455f28b4",
   "metadata": {},
   "source": [
    "\n",
    "## 1.2 Data Structures\n",
    "\n",
    "Python's data structures, such as tuples, lists, and dictionaries, are versatile tools for organizing and manipulating data. We'll explore these structures and apply them to financial data from the Tiingo API."
   ]
  },
  {
   "cell_type": "markdown",
   "id": "ab3c2415",
   "metadata": {},
   "source": [
    "### 1.2.1 Tuples\n",
    "\n",
    "Tuples are immutable sequences used to store collections of heterogeneous data. Here’s how to create and manipulate tuples:"
   ]
  },
  {
   "cell_type": "code",
   "execution_count": 8,
   "id": "30929104",
   "metadata": {},
   "outputs": [
    {
     "name": "stdout",
     "output_type": "stream",
     "text": [
      "(3, 5.7, 'finance', True)\n",
      "<class 'tuple'>\n",
      "1\n",
      "(3, 5.7, 'finance', True, 3, 5.7, 'finance', True)\n",
      "(3, 5.7, 'finance', True, 3, 5.7, 'finance', True)\n"
     ]
    }
   ],
   "source": [
    "tup = (3, 5.7, 'finance', True)  # Creating a tuple with mixed data types\n",
    "print(tup)  # Output: (3, 5.7, 'finance', True)\n",
    "print(type(tup))  # Output: <class 'tuple'>\n",
    "\n",
    "# Tuple operations\n",
    "print(tup.count(5.7))  # Output: 1 (Count occurrences of 5.7)\n",
    "print(2 * tup)  # Output: (3, 5.7, 'finance', True, 3, 5.7, 'finance', True) (Repetition)\n",
    "print(tup + tup)  # Output: (3, 5.7, 'finance', True, 3, 5.7, 'finance', True) (Concatenation)"
   ]
  },
  {
   "cell_type": "markdown",
   "id": "2854ecf8",
   "metadata": {},
   "source": [
    " "
   ]
  },
  {
   "cell_type": "markdown",
   "id": "44bff83d",
   "metadata": {},
   "source": [
    "### 1.2.2 Lists\n",
    "\n",
    "Lists are mutable sequences that can store mixed data types. Here’s how to perform list operations, including appending and removing elements:"
   ]
  },
  {
   "cell_type": "code",
   "execution_count": 9,
   "id": "8fb2ca0e",
   "metadata": {},
   "outputs": [
    {
     "name": "stdout",
     "output_type": "stream",
     "text": [
      "[3, 5.7, 'finance']\n",
      "<class 'list'>\n",
      "[3, 5.7, 'finance', False]\n",
      "5.7\n",
      "[3, 'finance', False]\n"
     ]
    }
   ],
   "source": [
    "lst = [3, 5.7, 'finance']  # Creating a list with mixed data types\n",
    "print(lst)  # Output: [3, 5.7, 'finance']\n",
    "print(type(lst))  # Output: <class 'list'>\n",
    "\n",
    "# List operations\n",
    "lst.append(False)  # Adding an element to the end of the list\n",
    "print(lst)  # Output: [3, 5.7, 'finance', False]\n",
    "\n",
    "print(lst.pop(1))  # Output: 5.7 (Removing and returning the element at index 1)\n",
    "print(lst)  # Output: [3, 'finance', False] (Updated list)"
   ]
  },
  {
   "cell_type": "markdown",
   "id": "0ff2caf1",
   "metadata": {},
   "source": [
    " "
   ]
  },
  {
   "cell_type": "markdown",
   "id": "628d8625",
   "metadata": {},
   "source": [
    "### 1.2.3 Dictionaries\n",
    "\n",
    "Dictionaries store data in key-value pairs, allowing for fast data retrieval. Here’s how to create and use dictionaries:"
   ]
  },
  {
   "cell_type": "code",
   "execution_count": 10,
   "id": "c62d5f5f",
   "metadata": {},
   "outputs": [
    {
     "name": "stdout",
     "output_type": "stream",
     "text": [
      "{'x': 15, 'y': 30}\n",
      "30\n"
     ]
    }
   ],
   "source": [
    "dic = {'x': 15, 'y': 30}  # Creating a dictionary with key-value pairs\n",
    "print(dic)  # Output: {'x': 15, 'y': 30}\n",
    "print(dic['y'])  # Output: 30 (Accessing the value associated with the key 'y')"
   ]
  },
  {
   "cell_type": "markdown",
   "id": "73fc3ca1",
   "metadata": {},
   "source": [
    " "
   ]
  },
  {
   "cell_type": "markdown",
   "id": "47123f64",
   "metadata": {},
   "source": [
    "### 1.2.4 Tiingo API\n",
    "The Tiingo API provides access to a wealth of financial data. Below, we guide you through setting up the API, fetching ticker metadata, and retrieving historical prices.\n",
    "\n",
    "Note: For security reasons, avoid displaying your TIINGO_API_KEY publicly. Instead, use environment variables or configuration files to store sensitive information. See Appendix A for detailed instructions on setting up the Tiingo API."
   ]
  },
  {
   "cell_type": "code",
   "execution_count": null,
   "id": "ee276173",
   "metadata": {},
   "outputs": [],
   "source": [
    "from tiingo import TiingoClient\n",
    "import os\n",
    "import pandas as pd\n",
    "\n",
    "# Set the Tiingo API key as an environment variable\n",
    "os.environ['TIINGO_API_KEY'] = ''  # Replace with your actual API key\n",
    "\n",
    "# Create an instance of the TiingoClient\n",
    "client = TiingoClient()\n",
    "\n",
    "# Fetch ticker metadata for AAPL\n",
    "ticker_metadata = client.get_ticker_metadata(\"AAPL\")\n",
    "metadata_df = pd.DataFrame([ticker_metadata])\n",
    "\n",
    "print(\"Ticker Metadata:\")\n",
    "print(metadata_df.to_string(index=False))\n",
    "\n",
    "# Fetch historical prices for AAPL\n",
    "historical_prices = client.get_ticker_price(\n",
    "    \"AAPL\",\n",
    "    fmt='json',\n",
    "    startDate='2021-01-01',\n",
    "    endDate='2021-01-31',\n",
    "    frequency='daily'\n",
    ")\n",
    "\n",
    "# Convert historical prices to a pandas DataFrame\n",
    "historical_prices_df = pd.DataFrame(historical_prices)\n",
    "print(\"\\nHistorical Prices:\")\n",
    "print(historical_prices_df.to_string(index=False))"
   ]
  },
  {
   "cell_type": "markdown",
   "id": "3ca803fd",
   "metadata": {
    "jp-MarkdownHeadingCollapsed": true
   },
   "source": [
    "## 1.3 Summary\n",
    "\n",
    "This chapter serves as an introduction to Python, emphasizing its relevance for financial analysts and researchers. Python's simplicity and extensive libraries make it an ideal choice for handling and analyzing financial data efficiently. The chapter introduces Python’s core concepts, including data types, variables, basic arithmetic operations, and key data structures like lists, tuples, and dictionaries, while demonstrating practical applications using the Tiingo API to fetch financial data."
   ]
  },
  {
   "cell_type": "markdown",
   "id": "a478637a-2c33-473d-9a21-341235c7fe5f",
   "metadata": {},
   "source": [
    "## Appendix A: Setting Up Python and Tiingo API\n",
    "\n",
    "This appendix provides step-by-step instructions for setting up Python, Jupyter Lab, and the Tiingo API. Whether you're a beginner or an experienced user, these instructions will help you get started with Python for financial analysis.\n",
    "\n",
    "---\n",
    "\n",
    "### Python Installation\n",
    "\n",
    "To install Python and Jupyter Lab, we recommend using **Anaconda**, a popular distribution that includes Python, Jupyter Lab, and many essential libraries for data analysis.\n",
    "\n",
    "Download and Install Anaconda\n",
    "1. Visit the [Anaconda website](https://www.anaconda.com/).\n",
    "2. Download the installer for your operating system (Windows, macOS, or Linux).\n",
    "3. Run the installer and follow the on-screen instructions.\n",
    "\n",
    "### Tiingo API Setup\n",
    "Tiingo provides a powerful API for accessing financial data, including stock prices, metadata, and more. Below are the steps to set up and use the Tiingo API.\n",
    "\n",
    "#### Step 1: Sign Up for a Tiingo Account\n",
    "Visit the Tiingo website.\n",
    "\n",
    "Click on Sign Up to create a free account.\n",
    "\n",
    "Once registered, log in to your account.\n",
    "\n",
    "#### Step 2: Obtain Your API Key\n",
    "After logging in, navigate to the API Token section in your account dashboard.\n",
    "\n",
    "Copy your API token. This token is required to authenticate your requests to the Tiingo API."
   ]
  }
 ],
 "metadata": {
  "kernelspec": {
   "display_name": "Python 3 (ipykernel)",
   "language": "python",
   "name": "python3"
  },
  "language_info": {
   "codemirror_mode": {
    "name": "ipython",
    "version": 3
   },
   "file_extension": ".py",
   "mimetype": "text/x-python",
   "name": "python",
   "nbconvert_exporter": "python",
   "pygments_lexer": "ipython3",
   "version": "3.12.7"
  }
 },
 "nbformat": 4,
 "nbformat_minor": 5
}
