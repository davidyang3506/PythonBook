{
 "cells": [
  {
   "cell_type": "markdown",
   "id": "32818a82",
   "metadata": {},
   "source": [
    "# Chapter 6: The Time Value of Money\n",
    "\n",
    "The adage \"a bird in the hand is worth two in the bush\" encapsulates a core principle in finance: the time value of money. This concept acknowledges that money available today holds greater worth than an identical sum promised for a future date.\n",
    "\n",
    "Understanding the time value of money is essential for making sound financial decisions, whether as an individual, business, or investor. It forms the foundation for various financial calculations and analyses.\n",
    "\n",
    "In the following sections, we will explore how to quantify the time value of money and its applications in different financial scenarios."
   ]
  },
  {
   "cell_type": "markdown",
   "id": "025674f0",
   "metadata": {},
   "source": [
    "## 6.1 Future Value and Compound Interest\n",
    "Investing money with the expectation that it will grow over time is a fundamental principle of finance. The future value (FV) of an investment is calculated based on the anticipated rate of return."
   ]
  },
  {
   "cell_type": "markdown",
   "id": "38156859",
   "metadata": {},
   "source": [
    "**Installation:** You can install the `numpy_financial` package using pip:"
   ]
  },
  {
   "cell_type": "code",
   "execution_count": 1,
   "id": "d77d08ef",
   "metadata": {},
   "outputs": [],
   "source": [
    "#pip install numpy-financial"
   ]
  },
  {
   "cell_type": "code",
   "execution_count": 2,
   "id": "f59be0ff",
   "metadata": {},
   "outputs": [
    {
     "name": "stdout",
     "output_type": "stream",
     "text": [
      "Future Value Scenarios:\n",
      " [( 200., 0.06,  3,  238.2032    ) ( 500., 0.05,  5,  638.14078125)\n",
      " (1000., 0.07, 10, 1967.15135729)]\n"
     ]
    }
   ],
   "source": [
    "import numpy_financial as npf\n",
    "import numpy as np\n",
    "\n",
    "# Define structured array dtype\n",
    "dt = np.dtype([('P', 'f8'), ('R', 'f8'), ('N', 'i8'), ('FV', 'f8')])\n",
    "\n",
    "# Create structured array with multiple assumptions\n",
    "scenarios = np.array([\n",
    "    (200, 0.06, 3, 0),\n",
    "    (500, 0.05, 5, 0),\n",
    "    (1000, 0.07, 10, 0)\n",
    "], dtype=dt)\n",
    "\n",
    "# Calculate Future Value for each scenario\n",
    "for i in range(len(scenarios)):\n",
    "    scenarios[i]['FV'] = npf.fv(rate=scenarios[i]['R'], nper=scenarios[i]['N'], pmt=0, pv=-scenarios[i]['P'])\n",
    "\n",
    "print(\"Future Value Scenarios:\\n\", scenarios)"
   ]
  },
  {
   "cell_type": "markdown",
   "id": "214ffbfe",
   "metadata": {},
   "source": [
    " "
   ]
  },
  {
   "cell_type": "markdown",
   "id": "1b4e9a93",
   "metadata": {},
   "source": [
    "## 6.2 Annuity\n",
    "\n",
    "An annuity is a series of equal payments made at regular intervals. We'll extend the concept by evaluating multiple scenarios using structured arrays."
   ]
  },
  {
   "cell_type": "code",
   "execution_count": 3,
   "id": "c7b2cd59",
   "metadata": {},
   "outputs": [
    {
     "name": "stdout",
     "output_type": "stream",
     "text": [
      "Future Value of Annuity Scenarios:\n",
      " [(250., 0.07,  6, 1788.32268518) (300., 0.06, 10, 3954.23848271)\n",
      " (400., 0.08,  5, 2346.640384  )]\n"
     ]
    }
   ],
   "source": [
    "# Define structured array dtype for annuities\n",
    "dt_annuity = np.dtype([('PMT', 'f8'), ('R', 'f8'), ('N', 'i8'), ('FVA', 'f8')])\n",
    "\n",
    "# Create structured array with multiple assumptions\n",
    "annuity_scenarios = np.array([\n",
    "    (250, 0.07, 6, 0),\n",
    "    (300, 0.06, 10, 0),\n",
    "    (400, 0.08, 5, 0)\n",
    "], dtype=dt_annuity)\n",
    "\n",
    "# Calculate Future Value of Annuity for each scenario\n",
    "for i in range(len(annuity_scenarios)):\n",
    "    annuity_scenarios[i]['FVA'] = npf.fv(rate=annuity_scenarios[i]['R'], nper=annuity_scenarios[i]['N'], pmt=-annuity_scenarios[i]['PMT'], pv=0)\n",
    "\n",
    "print(\"Future Value of Annuity Scenarios:\\n\", annuity_scenarios)"
   ]
  },
  {
   "cell_type": "markdown",
   "id": "921e3ce8",
   "metadata": {},
   "source": [
    " "
   ]
  },
  {
   "cell_type": "markdown",
   "id": "23eedd46",
   "metadata": {},
   "source": [
    "## 6.3 Present Value and Discount Rates\n",
    "\n",
    "Present value (PV) represents the current worth of future cash flows, discounted at a rate reflecting risk and time. We'll use structured arrays to analyze multiple discount rates."
   ]
  },
  {
   "cell_type": "code",
   "execution_count": 4,
   "id": "e351d9e4",
   "metadata": {},
   "outputs": [
    {
     "name": "stdout",
     "output_type": "stream",
     "text": [
      "Present Value Scenarios:\n",
      " [(1500., 0.08, 4, 1102.54477919) (2000., 0.09, 5, 1299.8627726 )\n",
      " (1000., 0.07, 3,  816.29787689)]\n"
     ]
    }
   ],
   "source": [
    "# Define structured array dtype for present value\n",
    "dt_pv = np.dtype([('FV', 'f8'), ('R', 'f8'), ('N', 'i8'), ('PV', 'f8')])\n",
    "\n",
    "# Create structured array with multiple assumptions\n",
    "pv_scenarios = np.array([\n",
    "    (1500, 0.08, 4, 0),\n",
    "    (2000, 0.09, 5, 0),\n",
    "    (1000, 0.07, 3, 0)\n",
    "], dtype=dt_pv)\n",
    "\n",
    "# Calculate Present Value for each scenario\n",
    "for i in range(len(pv_scenarios)):\n",
    "    pv_scenarios[i]['PV'] = npf.pv(rate=pv_scenarios[i]['R'], nper=pv_scenarios[i]['N'], pmt=0, fv=-pv_scenarios[i]['FV'])\n",
    "\n",
    "print(\"Present Value Scenarios:\\n\", pv_scenarios)"
   ]
  },
  {
   "cell_type": "markdown",
   "id": "431722da",
   "metadata": {},
   "source": [
    " "
   ]
  },
  {
   "cell_type": "markdown",
   "id": "deff87ed",
   "metadata": {},
   "source": [
    "## 6.4 Present Value of an Annuity\n",
    "\n",
    "To find the present value of a steady stream of future payments, we'll evaluate multiple scenarios using structured arrays."
   ]
  },
  {
   "cell_type": "code",
   "execution_count": 5,
   "id": "0819f94f",
   "metadata": {},
   "outputs": [
    {
     "name": "stdout",
     "output_type": "stream",
     "text": [
      "Present Value of Annuity Scenarios:\n",
      " [(300., 0.09,  5, 1166.89537901) (400., 0.08, 10, 2684.03255958)\n",
      " (250., 0.07,  6, 1191.63491494)]\n"
     ]
    }
   ],
   "source": [
    "# Define structured array dtype for present value of annuity\n",
    "dt_pva = np.dtype([('PMT', 'f8'), ('R', 'f8'), ('N', 'i8'), ('PVA', 'f8')])\n",
    "\n",
    "# Create structured array with multiple assumptions\n",
    "pva_scenarios = np.array([\n",
    "    (300, 0.09, 5, 0),\n",
    "    (400, 0.08, 10, 0),\n",
    "    (250, 0.07, 6, 0)\n",
    "], dtype=dt_pva)\n",
    "\n",
    "# Calculate Present Value of Annuity for each scenario\n",
    "for i in range(len(pva_scenarios)):\n",
    "    pva_scenarios[i]['PVA'] = npf.pv(rate=pva_scenarios[i]['R'], nper=pva_scenarios[i]['N'], pmt=-pva_scenarios[i]['PMT'], fv=0)\n",
    "\n",
    "print(\"Present Value of Annuity Scenarios:\\n\", pva_scenarios)"
   ]
  },
  {
   "cell_type": "markdown",
   "id": "9fe76820",
   "metadata": {},
   "source": [
    " "
   ]
  },
  {
   "cell_type": "markdown",
   "id": "3476f7ea",
   "metadata": {},
   "source": [
    "## 6.5 Present Value of Variable Cash Flows\n",
    "\n",
    "For cash flows that vary over time, the present value is the sum of the present values of each individual cash flow."
   ]
  },
  {
   "cell_type": "code",
   "execution_count": 6,
   "id": "98b6a740",
   "metadata": {
    "scrolled": true
   },
   "outputs": [
    {
     "name": "stdout",
     "output_type": "stream",
     "text": [
      "The total present value of the cash flows is: $4320.60\n"
     ]
    }
   ],
   "source": [
    "import numpy_financial as npf\n",
    "import numpy as np\n",
    "\n",
    "# Define variable cash flows and discount rate\n",
    "cash_flows = [1200, 1300, 1500, 1100]\n",
    "R = 0.07\n",
    "\n",
    "# Calculate Present Value of Variable Cash Flows\n",
    "PV = np.sum([cf / (1 + R) ** i for i, cf in enumerate(cash_flows, start=1)])\n",
    "print(f\"The total present value of the cash flows is: ${PV:.2f}\")"
   ]
  },
  {
   "cell_type": "markdown",
   "id": "f00d73dc",
   "metadata": {},
   "source": [
    " "
   ]
  },
  {
   "cell_type": "markdown",
   "id": "89d76259",
   "metadata": {},
   "source": [
    "## 6.6 Present Value of Perpetuities\n",
    "\n",
    "A perpetuity is an annuity that pays indefinitely. The present value is calculated by dividing the payment by the discount rate."
   ]
  },
  {
   "cell_type": "code",
   "execution_count": 7,
   "id": "a9abe3eb",
   "metadata": {},
   "outputs": [
    {
     "name": "stdout",
     "output_type": "stream",
     "text": [
      "Present Value of Perpetuity Scenarios:\n",
      " [( 3., 0.06,  50. ) ( 5., 0.08,  62.5) (10., 0.1 , 100. )]\n"
     ]
    }
   ],
   "source": [
    "# Define structured array dtype for perpetuities\n",
    "dt_perpetuity = np.dtype([('D', 'f8'), ('R', 'f8'), ('PVP', 'f8')])\n",
    "\n",
    "# Create structured array with multiple assumptions\n",
    "perpetuity_scenarios = np.array([\n",
    "    (3, 0.06, 0),\n",
    "    (5, 0.08, 0),\n",
    "    (10, 0.10, 0)\n",
    "], dtype=dt_perpetuity)\n",
    "\n",
    "# Calculate Present Value of Perpetuity for each scenario\n",
    "for i in range(len(perpetuity_scenarios)):\n",
    "    perpetuity_scenarios[i]['PVP'] = perpetuity_scenarios[i]['D'] / perpetuity_scenarios[i]['R']\n",
    "\n",
    "print(\"Present Value of Perpetuity Scenarios:\\n\", perpetuity_scenarios)"
   ]
  },
  {
   "cell_type": "markdown",
   "id": "5c2d3f2e",
   "metadata": {},
   "source": [
    " "
   ]
  },
  {
   "cell_type": "markdown",
   "id": "68c291dd",
   "metadata": {},
   "source": [
    "## 6.7 Interim-Year Compounding\n",
    "\n",
    "Interest compounded more frequently than annually impacts the future value of investments."
   ]
  },
  {
   "cell_type": "code",
   "execution_count": 8,
   "id": "90c84b5f",
   "metadata": {},
   "outputs": [
    {
     "name": "stdout",
     "output_type": "stream",
     "text": [
      "Future Value with Interim-Year Compounding Scenarios:\n",
      " [( 250., 0.05,  2, 2,  275.95322266) ( 500., 0.06,  4, 3,  597.80908573)\n",
      " (1000., 0.07, 12, 5, 1417.62525961)]\n"
     ]
    }
   ],
   "source": [
    "# Define structured array dtype for interim compounding\n",
    "dt_compounding = np.dtype([('P', 'f8'), ('R', 'f8'), ('m', 'i8'), ('N', 'i8'), ('FV', 'f8')])\n",
    "\n",
    "# Create structured array with multiple assumptions\n",
    "compounding_scenarios = np.array([\n",
    "    (250, 0.05, 2, 2, 0),\n",
    "    (500, 0.06, 4, 3, 0),\n",
    "    (1000, 0.07, 12, 5, 0)\n",
    "], dtype=dt_compounding)\n",
    "\n",
    "# Calculate Future Value with Interim-Year Compounding for each scenario\n",
    "for i in range(len(compounding_scenarios)):\n",
    "    compounding_scenarios[i]['FV'] = npf.fv(\n",
    "        rate=compounding_scenarios[i]['R'] / compounding_scenarios[i]['m'],\n",
    "        nper=compounding_scenarios[i]['m'] * compounding_scenarios[i]['N'],\n",
    "        pmt=0,\n",
    "        pv=-compounding_scenarios[i]['P']\n",
    "    )\n",
    "\n",
    "print(\"Future Value with Interim-Year Compounding Scenarios:\\n\", compounding_scenarios)\n"
   ]
  },
  {
   "cell_type": "markdown",
   "id": "cb93adba",
   "metadata": {},
   "source": [
    "## 6.8 Calculating Growth Rates"
   ]
  },
  {
   "cell_type": "markdown",
   "id": "c467fcde",
   "metadata": {},
   "source": [
    "Growth rates compare returns across different assets over time."
   ]
  },
  {
   "cell_type": "code",
   "execution_count": 9,
   "id": "f9f53b62",
   "metadata": {},
   "outputs": [
    {
     "name": "stdout",
     "output_type": "stream",
     "text": [
      "Growth Rate Scenarios:\n",
      " [( 5.,  7.21, 6, 0.06290441) (10., 15.03, 5, 0.08490521)\n",
      " (20., 30.5 , 8, 0.05416533)]\n"
     ]
    }
   ],
   "source": [
    "# Define structured array dtype for growth rates\n",
    "dt_growth = np.dtype([('PV', 'f8'), ('FV', 'f8'), ('N', 'i8'), ('GrowthRate', 'f8')])\n",
    "\n",
    "# Create structured array with multiple assumptions\n",
    "growth_scenarios = np.array([\n",
    "    (5, 7.21, 6, 0),\n",
    "    (10, 15.03, 5, 0),\n",
    "    (20, 30.50, 8, 0)\n",
    "], dtype=dt_growth)\n",
    "\n",
    "# Calculate Growth Rate for each scenario\n",
    "for i in range(len(growth_scenarios)):\n",
    "    growth_scenarios[i]['GrowthRate'] = npf.rate(\n",
    "        nper=growth_scenarios[i]['N'],\n",
    "        pmt=0,\n",
    "        pv=-growth_scenarios[i]['PV'],\n",
    "        fv=growth_scenarios[i]['FV']\n",
    "    )\n",
    "\n",
    "print(\"Growth Rate Scenarios:\\n\", growth_scenarios)\n"
   ]
  },
  {
   "cell_type": "markdown",
   "id": "6e2a8c7e",
   "metadata": {
    "jp-MarkdownHeadingCollapsed": true
   },
   "source": [
    "##  6.9 Summary \n",
    "\n",
    "This chapter explored the time value of money, a foundational concept in finance. By leveraging Python's numpy_financial package and structured arrays, we analyzed multiple scenarios for future value, present value, annuities, perpetuities, and growth rates. These tools enable robust financial decision-making, such as evaluating investment opportunities based on historical data and discounted cash flow analysis."
   ]
  }
 ],
 "metadata": {
  "kernelspec": {
   "display_name": "Python 3 (ipykernel)",
   "language": "python",
   "name": "python3"
  },
  "language_info": {
   "codemirror_mode": {
    "name": "ipython",
    "version": 3
   },
   "file_extension": ".py",
   "mimetype": "text/x-python",
   "name": "python",
   "nbconvert_exporter": "python",
   "pygments_lexer": "ipython3",
   "version": "3.12.7"
  }
 },
 "nbformat": 4,
 "nbformat_minor": 5
}
