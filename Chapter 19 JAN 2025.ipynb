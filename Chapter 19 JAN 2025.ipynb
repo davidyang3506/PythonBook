{
 "cells": [
  {
   "cell_type": "markdown",
   "id": "3286ba26",
   "metadata": {},
   "source": [
    "# Chapter 19: Analyzing Financial Data Across Asset Classes"
   ]
  },
  {
   "cell_type": "markdown",
   "id": "b6df2f35",
   "metadata": {},
   "source": [
    "This chapter embarks on a captivating journey, equipping you with the skills to analyze financial data across a diverse range of asset classes. We'll delve into the power of the Tiingo API, a gateway to unlocking historical price data for stocks, ETFs, cryptocurrencies, and foreign exchange (forex).\n",
    "\n",
    "Our arsenal will include the pandas library for data manipulation, the versatile matplotlib library for creating visualizations, and cufflinks (set to offline mode) for interactive plotting. By the chapter's conclusion, you'll be adept at:\n",
    "\n",
    "Retrieving Historical Data: Effortlessly querying historical price data for various assets.\n",
    "\n",
    "Price Normalization: Standardizing prices to facilitate insightful comparisons across assets.\n",
    "\n",
    "Correlation Visualization: Unveiling hidden relationships between different financial instruments using heatmaps and scatter plots."
   ]
  },
  {
   "cell_type": "markdown",
   "id": "1a4371a1",
   "metadata": {},
   "source": [
    "## 19.1 Imports"
   ]
  },
  {
   "cell_type": "code",
   "execution_count": null,
   "id": "9d6a5c1f",
   "metadata": {},
   "outputs": [],
   "source": [
    "import os\n",
    "import pandas as pd\n",
    "import matplotlib.pyplot as plt\n",
    "from tiingo import TiingoClient\n",
    "import cufflinks as cf                   # Interactive plotting library (set to offline mode here).\n",
    "cf.set_config_file(offline=True)         # Disables cufflinks' online functionalities for use with pre-downloaded data."
   ]
  },
  {
   "cell_type": "markdown",
   "id": "8916b8b5",
   "metadata": {},
   "source": [
    "Cufflinks is a Python library that seamlessly integrates with Pandas and Plotly to create interactive visualizations directly from DataFrames.\n",
    "\n",
    "It simplifies the process of transforming data into compelling visual representations.   \n",
    "\n",
    "Key Features:\n",
    "\n",
    "**Integration with Pandas:** Cufflinks operates directly on Pandas DataFrames, allowing for effortless plotting.\n",
    "\n",
    "**Interactive Plots:** It generates interactive visualizations that can be explored and analyzed in detail.\n",
    "\n",
    "**Plotly Backend:** Leveraging Plotly's capabilities, Cufflinks provides a wide range of plot types and customization options.\n",
    "\n",
    "**Offline Functionality:** You can configure Cufflinks to work in offline mode, making it suitable for environments without an active internet connection.   \n",
    "\n",
    "In essence, Cufflinks acts as a user-friendly interface between your data and visually appealing, interactive charts."
   ]
  },
  {
   "cell_type": "code",
   "execution_count": null,
   "id": "cc3d6b7b",
   "metadata": {},
   "outputs": [],
   "source": [
    "# API Connection\n",
    "os.environ['TIINGO_API_KEY'] = 'YOUR KEY'\n",
    "client = TiingoClient()"
   ]
  },
  {
   "cell_type": "markdown",
   "id": "8486622d",
   "metadata": {},
   "source": [
    "## 19.2 Stocks"
   ]
  },
  {
   "cell_type": "code",
   "execution_count": null,
   "id": "d5d4ad45",
   "metadata": {},
   "outputs": [],
   "source": [
    "# Stock Price Data\n",
    "symbol = 'AAPL'\n",
    "prices = client.get_dataframe(symbol, startDate='2021-01-01', endDate='2023-12-31', frequency='daily')\n",
    "price_df = prices[['adjClose']].rename(columns={'adjClose': 'adjusted_close'})\n",
    "price_df.info()\n",
    "price_df.tail()                          #Shows the last 1000 closing prices using price_df.tail().\n",
    "price_df['adjusted_close'].iloc[-1000:].iplot(title=symbol)"
   ]
  },
  {
   "cell_type": "markdown",
   "id": "7fe51970",
   "metadata": {},
   "source": [
    "## 19.3 ETFs\n",
    "\n",
    "Reminder: Exchange-Traded Funds (ETFs) are investment funds that trade on stock exchanges, much like individual stocks, and typically aim to track the performance of a specific index or sector. They offer investors diversification, liquidity, and often lower fees compared to mutual funds."
   ]
  },
  {
   "cell_type": "code",
   "execution_count": null,
   "id": "bec9afc6",
   "metadata": {},
   "outputs": [],
   "source": [
    "# This module contains the basic building blocks for creating plots in plotly, such as Figure, Scatter, Bar, and other plot types. \n",
    "import plotly.graph_objs as go \n",
    "\n",
    "# This imports the iplot function from the plotly.offline module. The iplot function is used to display plots inline within a Jupyter notebook. \n",
    "from plotly.offline import iplot\n",
    "\n",
    "# ETF Data\n",
    "etf_symbols = [\n",
    "    'IYW',                  # iShares U.S. Technology ETF\n",
    "    'QQQ',                  # Invesco QQQ Trust\n",
    "    'SPY',                  # SPDR S&P 500 ETF Trust\n",
    "    'GLD',                  # SPDR Gold Shares\n",
    "    'VTI',                  # Vanguard Total Stock Market ETF\n",
    "    'VEA',                  # Vanguard FTSE Developed Markets ETF\n",
    "    'BND'                   # Vanguard Total Bond Market ETF\n",
    "]\n",
    "\n",
    "etf_data = {}\n",
    "for etf in etf_symbols:\n",
    "    prices = client.get_dataframe(etf, startDate='2021-01-01', endDate='2023-12-31', frequency='daily')\n",
    "    price_df = prices[['adjClose']].rename(columns={'adjClose': 'close'})\n",
    "    etf_data[etf] = price_df\n",
    "\n",
    "etf_df = pd.DataFrame()\n",
    "for etf in etf_data:\n",
    "    etf_df[etf] = etf_data[etf]['close']\n",
    "etf_df.dropna(inplace=True)\n",
    "\n",
    "# Normalize the ETF prices\n",
    "etf_df_normalized = etf_df / etf_df.iloc[0]\n",
    "\n",
    "# Plot normalized ETF prices\n",
    "fig = go.Figure()\n",
    "for etf in etf_df_normalized.columns:\n",
    "    fig.add_trace(go.Scatter(x=etf_df_normalized.index, y=etf_df_normalized[etf], mode='lines', name=etf))\n",
    "\n",
    "fig.update_layout(title='Normalized ETF Prices',\n",
    "                  xaxis_title='Date',\n",
    "                  yaxis_title='Normalized Price')\n",
    "iplot(fig)\n",
    "\n",
    "# Print correlation matrix\n",
    "print(etf_df_normalized.corr())\n",
    "\n",
    "# Create a heatmap visualizing the correlation matrix of the normalized ETF prices\n",
    "etf_corr = etf_df_normalized.corr()\n",
    "heatmap = go.Figure(data=go.Heatmap(\n",
    "                   z=etf_corr.values,\n",
    "                   x=etf_corr.index.values,\n",
    "                   y=etf_corr.columns.values,\n",
    "                   colorscale='Blues'))\n",
    "heatmap.update_layout(title='Correlation of ETF Prices')\n",
    "iplot(heatmap)\n"
   ]
  },
  {
   "cell_type": "markdown",
   "id": "ca75d0fb",
   "metadata": {},
   "source": [
    "## 19.4 Cryptocurrency\n",
    "\n",
    "Reminder: Cryptocurrency is a digital or virtual form of currency that uses cryptography for secure transactions and operates independently of a central authority, like a government or bank. It relies on blockchain technology to maintain a decentralized and transparent ledger of transactions."
   ]
  },
  {
   "cell_type": "code",
   "execution_count": null,
   "id": "2f1ece84",
   "metadata": {},
   "outputs": [],
   "source": [
    "# Cryptocurrency Data\n",
    "crypto_symbols = [\n",
    "    'ethusd',                                      # Ethereum\n",
    "    'xrpusd',                                      # Ripple\n",
    "    'ltcusd',                                      # Litecoin\n",
    "    'bchusd',                                      # Bitcoin Cash\n",
    "    'adausd'                                       # Cardano\n",
    "]\n",
    "\n",
    "crypto_data = {}\n",
    "for crypto in crypto_symbols:\n",
    "    prices = client.get_dataframe(crypto, startDate='2021-01-01', endDate='2023-12-31', frequency='daily')\n",
    "    price_df = prices[['adjClose']].rename(columns={'adjClose': 'close'})\n",
    "    crypto_data[crypto] = price_df\n",
    "\n",
    "crypto_df = pd.DataFrame()\n",
    "for crypto in crypto_data:\n",
    "    crypto_df[crypto] = crypto_data[crypto]['close']\n",
    "\n",
    "crypto_df.dropna(inplace=True)\n",
    "\n",
    "# Normalize the prices\n",
    "crypto_df_normalized = crypto_df / crypto_df.iloc[0]\n",
    "\n",
    "# Plot normalized prices\n",
    "fig = go.Figure()\n",
    "for crypto in crypto_df_normalized.columns:\n",
    "    fig.add_trace(go.Scatter(x=crypto_df_normalized.index, y=crypto_df_normalized[crypto], mode='lines', name=crypto))\n",
    "\n",
    "fig.update_layout(title='Normalized Cryptocurrency Prices',\n",
    "                  xaxis_title='Date',\n",
    "                  yaxis_title='Normalized Price')\n",
    "iplot(fig)\n",
    "\n",
    "# Print correlation matrix\n",
    "print(crypto_df_normalized.corr())\n",
    "\n",
    "# Plot the Cryptocurrency normalized prices correlation\n",
    "crypto_corr = crypto_df_normalized.corr()\n",
    "crypto_heatmap = go.Figure(data=go.Heatmap(\n",
    "                   z=crypto_corr.values,\n",
    "                   x=crypto_corr.index.values,\n",
    "                   y=crypto_corr.columns.values,\n",
    "                   colorscale='Blues'))\n",
    "crypto_heatmap.update_layout(title='Correlation of Cryptocurrency Prices')\n",
    "iplot(crypto_heatmap)"
   ]
  },
  {
   "cell_type": "markdown",
   "id": "6ad13a97",
   "metadata": {},
   "source": [
    "## 19.5 Forex\n",
    "\n",
    "Reminder: Foreign exchange, or forex, is the global marketplace for trading national currencies against one another, driven by fluctuations in exchange rates. It operates 24/5, allowing traders to buy, sell, and exchange currencies with the aim of capitalizing on changes in their relative values."
   ]
  },
  {
   "cell_type": "code",
   "execution_count": null,
   "id": "ae108bb0",
   "metadata": {
    "scrolled": true
   },
   "outputs": [],
   "source": [
    "# Forex Data\n",
    "forex_symbols = [\n",
    "    'EURUSD',                                               # Euro to USD\n",
    "    'GBPUSD',                                               # British Pound to USD\n",
    "    'USDCAD',                                               # USD to Canadian Dollar\n",
    "    'USDCHF',                                               # USD to Swiss Franc\n",
    "    'AUDUSD'                                                # Australian Dollar to USD\n",
    "]\n",
    "\n",
    "forex_data = {}\n",
    "for forex in forex_symbols:\n",
    "    prices = client.get_dataframe(forex, startDate='2021-01-01', endDate='2023-12-31', frequency='daily')\n",
    "    price_df = prices[['adjClose']].rename(columns={'adjClose': 'close'})\n",
    "    forex_data[forex] = price_df\n",
    "\n",
    "forex_df = pd.DataFrame()\n",
    "for forex in forex_data:\n",
    "    forex_df[forex] = forex_data[forex]['close']\n",
    "forex_df.dropna(inplace=True)\n",
    "\n",
    "# Normalize the forex prices\n",
    "forex_df_normalized = forex_df / forex_df.iloc[0]\n",
    "\n",
    "# Plot normalized Forex prices\n",
    "fig = go.Figure()\n",
    "for forex in forex_df_normalized.columns:\n",
    "    fig.add_trace(go.Scatter(x=forex_df_normalized.index, y=forex_df_normalized[forex], mode='lines', name=forex))\n",
    "\n",
    "fig.update_layout(title='Normalized Forex Prices',\n",
    "                  xaxis_title='Date',\n",
    "                  yaxis_title='Normalized Price')\n",
    "iplot(fig)\n",
    "\n",
    "# Print correlation matrix\n",
    "print(forex_df_normalized.corr())\n",
    "\n",
    "# Create a heatmap visualizing the correlation matrix of the normalized Forex prices\n",
    "forex_corr = forex_df_normalized.corr()\n",
    "heatmap = go.Figure(data=go.Heatmap(\n",
    "                   z=forex_corr.values,\n",
    "                   x=forex_corr.index.values,\n",
    "                   y=forex_corr.columns.values,\n",
    "                   colorscale='Blues'))\n",
    "heatmap.update_layout(title='Correlation of Forex Prices')\n",
    "iplot(heatmap)"
   ]
  },
  {
   "cell_type": "markdown",
   "id": "28ed54bc",
   "metadata": {},
   "source": [
    "## 19.6 Summary\n",
    "\n",
    "This chapter provides an in-depth guide on how to analyze and compare financial data across various asset classes, such as stocks, ETFs, cryptocurrencies, and foreign exchange (forex). Utilizing the **Tiingo API**, **pandas** for data manipulation, **matplotlib** for visualizations, and **cufflinks** for interactive plotting, we gain insights into the relationships between these assets and explore their historical price data."
   ]
  }
 ],
 "metadata": {
  "kernelspec": {
   "display_name": "Python 3 (ipykernel)",
   "language": "python",
   "name": "python3"
  },
  "language_info": {
   "codemirror_mode": {
    "name": "ipython",
    "version": 3
   },
   "file_extension": ".py",
   "mimetype": "text/x-python",
   "name": "python",
   "nbconvert_exporter": "python",
   "pygments_lexer": "ipython3",
   "version": "3.12.7"
  }
 },
 "nbformat": 4,
 "nbformat_minor": 5
}
